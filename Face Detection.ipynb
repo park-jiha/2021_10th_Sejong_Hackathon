{
 "cells": [
  {
   "cell_type": "code",
   "execution_count": 2,
   "id": "340289ce",
   "metadata": {},
   "outputs": [
    {
     "name": "stdout",
     "output_type": "stream",
     "text": [
      "Requirement already satisfied: mediapipe in c:\\anaconda\\lib\\site-packages (0.8.7.3)\n",
      "Requirement already satisfied: opencv-contrib-python in c:\\anaconda\\lib\\site-packages (from mediapipe) (4.5.3.56)\n",
      "Requirement already satisfied: six in c:\\anaconda\\lib\\site-packages (from mediapipe) (1.16.0)\n",
      "Requirement already satisfied: numpy in c:\\anaconda\\lib\\site-packages (from mediapipe) (1.21.2)\n",
      "Requirement already satisfied: wheel in c:\\anaconda\\lib\\site-packages (from mediapipe) (0.37.0)\n",
      "Requirement already satisfied: protobuf>=3.11.4 in c:\\anaconda\\lib\\site-packages (from mediapipe) (3.18.0)\n",
      "Requirement already satisfied: matplotlib in c:\\anaconda\\lib\\site-packages (from mediapipe) (3.4.3)\n",
      "Requirement already satisfied: attrs>=19.1.0 in c:\\anaconda\\lib\\site-packages (from mediapipe) (21.2.0)\n",
      "Requirement already satisfied: absl-py in c:\\anaconda\\lib\\site-packages (from mediapipe) (0.14.0)\n",
      "Requirement already satisfied: pyparsing>=2.2.1 in c:\\anaconda\\lib\\site-packages (from matplotlib->mediapipe) (2.4.7)\n",
      "Requirement already satisfied: python-dateutil>=2.7 in c:\\anaconda\\lib\\site-packages (from matplotlib->mediapipe) (2.8.2)\n",
      "Requirement already satisfied: kiwisolver>=1.0.1 in c:\\anaconda\\lib\\site-packages (from matplotlib->mediapipe) (1.3.2)\n",
      "Requirement already satisfied: cycler>=0.10 in c:\\anaconda\\lib\\site-packages (from matplotlib->mediapipe) (0.10.0)\n",
      "Requirement already satisfied: pillow>=6.2.0 in c:\\anaconda\\lib\\site-packages (from matplotlib->mediapipe) (8.3.1)\n",
      "Note: you may need to restart the kernel to use updated packages.\n"
     ]
    }
   ],
   "source": [
    "pip install mediapipe"
   ]
  },
  {
   "cell_type": "code",
   "execution_count": 2,
   "id": "4e4b2204",
   "metadata": {},
   "outputs": [
    {
     "name": "stdout",
     "output_type": "stream",
     "text": [
      "Requirement already satisfied: opencv-python in c:\\anaconda\\lib\\site-packages (4.5.3.56)Note: you may need to restart the kernel to use updated packages.\n",
      "Requirement already satisfied: numpy>=1.17.3 in c:\\anaconda\\lib\\site-packages (from opencv-python) (1.21.2)\n",
      "\n"
     ]
    }
   ],
   "source": [
    "pip install opencv-python"
   ]
  },
  {
   "cell_type": "code",
   "execution_count": 3,
   "id": "20888976",
   "metadata": {},
   "outputs": [
    {
     "name": "stdout",
     "output_type": "stream",
     "text": [
      "Requirement already satisfied: opencv-contrib-python in c:\\anaconda\\lib\\site-packages (4.5.3.56)Note: you may need to restart the kernel to use updated packages.\n",
      "Requirement already satisfied: numpy>=1.17.3 in c:\\anaconda\\lib\\site-packages (from opencv-contrib-python) (1.21.2)\n",
      "\n"
     ]
    }
   ],
   "source": [
    "pip install opencv-contrib-python"
   ]
  },
  {
   "cell_type": "code",
   "execution_count": 7,
   "id": "7a2406ca",
   "metadata": {},
   "outputs": [
    {
     "name": "stdout",
     "output_type": "stream",
     "text": [
      "Face Count : 1\n",
      "Face Count : 1\n",
      "Face Count : 1\n",
      "Face Count : 1\n",
      "Face Count : 1\n",
      "Face Count : 1\n",
      "Face Count : 1\n",
      "Face Count : 1\n",
      "Face Count : 1\n",
      "Face Count : 1\n",
      "Face Count : 1\n",
      "Face Count : 1\n",
      "Face Count : 1\n",
      "Face Count : 1\n",
      "Face Count : 1\n",
      "Face Count : 1\n",
      "Face Count : 1\n",
      "Face Count : 1\n",
      "Face Count : 1\n",
      "Face Count : 1\n",
      "Face Count : 1\n",
      "Face Count : 1\n",
      "Face Count : 1\n",
      "Face Count : 1\n",
      "Face Count : 1\n",
      "Face Count : 1\n",
      "Face Count : 1\n",
      "Face Count : 1\n",
      "Face Count : 1\n",
      "Face Count : 1\n",
      "Face Count : 1\n",
      "Face Count : 1\n",
      "Face Count : 1\n",
      "Face Count : 1\n",
      "Face Count : 1\n",
      "Face Count : 1\n",
      "Face Count : 1\n",
      "Face Count : 1\n",
      "Face Count : 1\n",
      "Face Count : 1\n",
      "Face Count : 1\n",
      "Face Count : 1\n",
      "Face Count : 1\n",
      "Face Count : 1\n",
      "Face Count : 1\n",
      "Face Count : 1\n",
      "Face Count : 1\n",
      "Face Count : 1\n",
      "Face Count : 1\n",
      "Face Count : 1\n",
      "Face Count : 1\n",
      "Face Count : 1\n",
      "Face Count : 1\n",
      "Face Count : 1\n",
      "Face Count : 1\n",
      "Face Count : 1\n",
      "Face Count : 1\n"
     ]
    }
   ],
   "source": [
    "import cv2 as cv2\n",
    "import mediapipe as mp \n",
    "import time\n",
    "\n",
    "cap = cv2.VideoCapture(1)\n",
    " \n",
    "pTime = 0\n",
    " \n",
    "mpFaceDect = mp.solutions.face_detection\n",
    "mpDrawing = mp.solutions.drawing_utils\n",
    "faceDetection = mpFaceDect.FaceDetection(0.75)\n",
    "\n",
    "cnt = 0 # 프레임별 바로바로 카운팅\n",
    "# cnt가 일정 기준값 이상일때(지금은 일단 60) 옐로카드 1씩 증가\n",
    "# -> 예를들어 5이상 되면 레드카드 한장 이런식으로 할 수 있을듯\n",
    "yellow_card = 0\n",
    "face_num = 0\n",
    "\n",
    "while True:\n",
    "    success, img = cap.read()\n",
    "  \n",
    "    imgRGB = cv2.cvtColor(img,cv2.COLOR_BGR2RGB)\n",
    "    results = faceDetection.process(imgRGB)\n",
    "    \n",
    "    if results.detections:\n",
    "        for id, detection in enumerate(results.detections):\n",
    "            mpDrawing.draw_detection(img, detection)\n",
    "            #print(id, detection)\n",
    "            #print(detection.location_data.relative_bounding_box)\n",
    "            bboxC = detection.location_data.relative_bounding_box\n",
    "            ih, iw, ic = img.shape\n",
    "            bbox = int(bboxC.xmin * iw), int(bboxC.ymin * ih), \\\n",
    "                int(bboxC.width * iw), int(bboxC.height * ih)\n",
    "            cv2.rectangle(img, bbox, (255, 0, 255), 2)\n",
    "            cv2.putText(img, f'{int(detection.score[0] * 100)}%',\n",
    "                       (bbox[0], bbox[1] - 20),cv2.FONT_HERSHEY_PLAIN,2,(255, 0, 255),2)\n",
    "            face_num = face_num + 1\n",
    "        \n",
    "    print(\"Face Count :\", face_num)\n",
    "    face_num = 0\n",
    "#         얼굴이 두개 이상일 때\n",
    "#         if face_num > 1:\n",
    "#             cnt = cnt + 1\n",
    "#         face_num = 0\n",
    "    \n",
    "#         # 얼굴이 하나도 감지 안될 때\n",
    "#         else:\n",
    "#             cnt = cnt + 1\n",
    "\n",
    "#         if cnt != 0 and cnt % 60 == 0:\n",
    "#             yellow_card = yellow_card + 1\n",
    "#             print(yellow_card)    \n",
    "\n",
    "#         cTime = time.time() # frame rate\n",
    "#         fps_rate = 1 / (cTime-pTime)\n",
    "#         pTime = cTime\n",
    "\n",
    "    cv2.putText(img, f'FPS: {int(fps_rate)}', (20, 70), cv2.FONT_HERSHEY_PLAIN,3  ,(0, 255, 0), 2)\n",
    "    cv2.imshow('Face Detection ', img)\n",
    "\n",
    "    if cv2.waitKey(10) & 0xFF == ord('q'):\n",
    "            break\n",
    "        \n",
    "cap.release()\n",
    "cv2.destroyAllWindows()"
   ]
  },
  {
   "cell_type": "code",
   "execution_count": null,
   "id": "3d898abc",
   "metadata": {},
   "outputs": [],
   "source": []
  }
 ],
 "metadata": {
  "kernelspec": {
   "display_name": "Python 3 (ipykernel)",
   "language": "python",
   "name": "python3"
  },
  "language_info": {
   "codemirror_mode": {
    "name": "ipython",
    "version": 3
   },
   "file_extension": ".py",
   "mimetype": "text/x-python",
   "name": "python",
   "nbconvert_exporter": "python",
   "pygments_lexer": "ipython3",
   "version": "3.8.8"
  }
 },
 "nbformat": 4,
 "nbformat_minor": 5
}
